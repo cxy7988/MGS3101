{
 "cells": [
  {
   "metadata": {},
   "cell_type": "markdown",
   "source": [
    "### This is the first Markdown Cell\n",
    "#### This is the first Markdown Cell\n",
    "This is the first Markdown Cell\n",
    "\n",
    "$$ x^2+3x+7=9  $$\n",
    " \n",
    "\n"
   ],
   "id": "43edb0183b48215f"
  },
  {
   "metadata": {},
   "cell_type": "markdown",
   "source": "",
   "id": "442ea80a63bf48a8"
  }
 ],
 "metadata": {
  "kernelspec": {
   "display_name": "Python 3",
   "language": "python",
   "name": "python3"
  },
  "language_info": {
   "codemirror_mode": {
    "name": "ipython",
    "version": 2
   },
   "file_extension": ".py",
   "mimetype": "text/x-python",
   "name": "python",
   "nbconvert_exporter": "python",
   "pygments_lexer": "ipython2",
   "version": "2.7.6"
  }
 },
 "nbformat": 4,
 "nbformat_minor": 5
}
