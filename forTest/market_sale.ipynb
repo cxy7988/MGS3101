{
 "cells": [
  {
   "cell_type": "code",
   "id": "initial_id",
   "metadata": {
    "collapsed": true,
    "ExecuteTime": {
     "end_time": "2024-11-12T22:41:43.991360Z",
     "start_time": "2024-11-12T22:41:43.987316Z"
    }
   },
   "source": [
    "import pandas as pd\n",
    "import numpy as np\n",
    "import matplotlib.pyplot as plt\n",
    "import seaborn as sns"
   ],
   "outputs": [],
   "execution_count": 1
  },
  {
   "metadata": {
    "ExecuteTime": {
     "end_time": "2024-11-12T22:42:14.314522Z",
     "start_time": "2024-11-12T22:42:14.175110Z"
    }
   },
   "cell_type": "code",
   "source": [
    "url = 'https://raw.githubusercontent.com/r2prof/Data/refs/heads/main/market_sales.csv'\n",
    "df = pd.read_csv(url)"
   ],
   "id": "f689594b81565f93",
   "outputs": [],
   "execution_count": 3
  },
  {
   "metadata": {
    "ExecuteTime": {
     "end_time": "2024-11-12T22:44:21.267113Z",
     "start_time": "2024-11-12T22:44:21.242616Z"
    }
   },
   "cell_type": "code",
   "source": "df",
   "id": "e9b07c4f23447d4e",
   "outputs": [
    {
     "data": {
      "text/plain": [
       "      Invoice_ID Branch       City Customer_Type  Gender  \\\n",
       "0    750-67-8428      A     Yangon        Member  Female   \n",
       "1    226-31-3081      C  Naypyitaw        Normal  Female   \n",
       "2    631-41-3108      A     Yangon        Normal    Male   \n",
       "3    123-19-1176      A     Yangon        Member    Male   \n",
       "4    373-73-7910      A     Yangon        Normal    Male   \n",
       "..           ...    ...        ...           ...     ...   \n",
       "995  233-67-5758      C  Naypyitaw        Normal    Male   \n",
       "996  303-96-2227      B   Mandalay        Normal  Female   \n",
       "997  727-02-1313      A     Yangon        Member    Male   \n",
       "998  347-56-2442      A     Yangon        Normal    Male   \n",
       "999  849-09-3807      A     Yangon        Member  Female   \n",
       "\n",
       "               Product_Line  Unit_Price  Quantity  Tax_5_Percent      Total  \\\n",
       "0         Health and beauty       74.69         7        26.1415   548.9715   \n",
       "1    Electronic accessories       15.28         5         3.8200    80.2200   \n",
       "2        Home and lifestyle       46.33         7        16.2155   340.5255   \n",
       "3         Health and beauty       58.22         8        23.2880   489.0480   \n",
       "4         Sports and travel       86.31         7        30.2085   634.3785   \n",
       "..                      ...         ...       ...            ...        ...   \n",
       "995       Health and beauty       40.35         1         2.0175    42.3675   \n",
       "996      Home and lifestyle       97.38        10        48.6900  1022.4900   \n",
       "997      Food and beverages       31.84         1         1.5920    33.4320   \n",
       "998      Home and lifestyle       65.82         1         3.2910    69.1110   \n",
       "999     Fashion accessories       88.34         7        30.9190   649.2990   \n",
       "\n",
       "          Date   Time      Payment    Cogs  Gross_Margin_Percent  \\\n",
       "0     1/5/2019  13:08      Ewallet  522.83              4.761905   \n",
       "1     3/8/2019  10:29         Cash   76.40              4.761905   \n",
       "2     3/3/2019  13:23  Credit card  324.31              4.761905   \n",
       "3    1/27/2019  20:33      Ewallet  465.76              4.761905   \n",
       "4     2/8/2019  10:37      Ewallet  604.17              4.761905   \n",
       "..         ...    ...          ...     ...                   ...   \n",
       "995  1/29/2019  13:46      Ewallet   40.35              4.761905   \n",
       "996   3/2/2019  17:16      Ewallet  973.80              4.761905   \n",
       "997   2/9/2019  13:22         Cash   31.84              4.761905   \n",
       "998  2/22/2019  15:33         Cash   65.82              4.761905   \n",
       "999  2/18/2019  13:28         Cash  618.38              4.761905   \n",
       "\n",
       "     Gross_Income  Rating  \n",
       "0         26.1415     9.1  \n",
       "1          3.8200     9.6  \n",
       "2         16.2155     7.4  \n",
       "3         23.2880     8.4  \n",
       "4         30.2085     5.3  \n",
       "..            ...     ...  \n",
       "995        2.0175     6.2  \n",
       "996       48.6900     4.4  \n",
       "997        1.5920     7.7  \n",
       "998        3.2910     4.1  \n",
       "999       30.9190     6.6  \n",
       "\n",
       "[1000 rows x 17 columns]"
      ],
      "text/html": [
       "<div>\n",
       "<style scoped>\n",
       "    .dataframe tbody tr th:only-of-type {\n",
       "        vertical-align: middle;\n",
       "    }\n",
       "\n",
       "    .dataframe tbody tr th {\n",
       "        vertical-align: top;\n",
       "    }\n",
       "\n",
       "    .dataframe thead th {\n",
       "        text-align: right;\n",
       "    }\n",
       "</style>\n",
       "<table border=\"1\" class=\"dataframe\">\n",
       "  <thead>\n",
       "    <tr style=\"text-align: right;\">\n",
       "      <th></th>\n",
       "      <th>Invoice_ID</th>\n",
       "      <th>Branch</th>\n",
       "      <th>City</th>\n",
       "      <th>Customer_Type</th>\n",
       "      <th>Gender</th>\n",
       "      <th>Product_Line</th>\n",
       "      <th>Unit_Price</th>\n",
       "      <th>Quantity</th>\n",
       "      <th>Tax_5_Percent</th>\n",
       "      <th>Total</th>\n",
       "      <th>Date</th>\n",
       "      <th>Time</th>\n",
       "      <th>Payment</th>\n",
       "      <th>Cogs</th>\n",
       "      <th>Gross_Margin_Percent</th>\n",
       "      <th>Gross_Income</th>\n",
       "      <th>Rating</th>\n",
       "    </tr>\n",
       "  </thead>\n",
       "  <tbody>\n",
       "    <tr>\n",
       "      <th>0</th>\n",
       "      <td>750-67-8428</td>\n",
       "      <td>A</td>\n",
       "      <td>Yangon</td>\n",
       "      <td>Member</td>\n",
       "      <td>Female</td>\n",
       "      <td>Health and beauty</td>\n",
       "      <td>74.69</td>\n",
       "      <td>7</td>\n",
       "      <td>26.1415</td>\n",
       "      <td>548.9715</td>\n",
       "      <td>1/5/2019</td>\n",
       "      <td>13:08</td>\n",
       "      <td>Ewallet</td>\n",
       "      <td>522.83</td>\n",
       "      <td>4.761905</td>\n",
       "      <td>26.1415</td>\n",
       "      <td>9.1</td>\n",
       "    </tr>\n",
       "    <tr>\n",
       "      <th>1</th>\n",
       "      <td>226-31-3081</td>\n",
       "      <td>C</td>\n",
       "      <td>Naypyitaw</td>\n",
       "      <td>Normal</td>\n",
       "      <td>Female</td>\n",
       "      <td>Electronic accessories</td>\n",
       "      <td>15.28</td>\n",
       "      <td>5</td>\n",
       "      <td>3.8200</td>\n",
       "      <td>80.2200</td>\n",
       "      <td>3/8/2019</td>\n",
       "      <td>10:29</td>\n",
       "      <td>Cash</td>\n",
       "      <td>76.40</td>\n",
       "      <td>4.761905</td>\n",
       "      <td>3.8200</td>\n",
       "      <td>9.6</td>\n",
       "    </tr>\n",
       "    <tr>\n",
       "      <th>2</th>\n",
       "      <td>631-41-3108</td>\n",
       "      <td>A</td>\n",
       "      <td>Yangon</td>\n",
       "      <td>Normal</td>\n",
       "      <td>Male</td>\n",
       "      <td>Home and lifestyle</td>\n",
       "      <td>46.33</td>\n",
       "      <td>7</td>\n",
       "      <td>16.2155</td>\n",
       "      <td>340.5255</td>\n",
       "      <td>3/3/2019</td>\n",
       "      <td>13:23</td>\n",
       "      <td>Credit card</td>\n",
       "      <td>324.31</td>\n",
       "      <td>4.761905</td>\n",
       "      <td>16.2155</td>\n",
       "      <td>7.4</td>\n",
       "    </tr>\n",
       "    <tr>\n",
       "      <th>3</th>\n",
       "      <td>123-19-1176</td>\n",
       "      <td>A</td>\n",
       "      <td>Yangon</td>\n",
       "      <td>Member</td>\n",
       "      <td>Male</td>\n",
       "      <td>Health and beauty</td>\n",
       "      <td>58.22</td>\n",
       "      <td>8</td>\n",
       "      <td>23.2880</td>\n",
       "      <td>489.0480</td>\n",
       "      <td>1/27/2019</td>\n",
       "      <td>20:33</td>\n",
       "      <td>Ewallet</td>\n",
       "      <td>465.76</td>\n",
       "      <td>4.761905</td>\n",
       "      <td>23.2880</td>\n",
       "      <td>8.4</td>\n",
       "    </tr>\n",
       "    <tr>\n",
       "      <th>4</th>\n",
       "      <td>373-73-7910</td>\n",
       "      <td>A</td>\n",
       "      <td>Yangon</td>\n",
       "      <td>Normal</td>\n",
       "      <td>Male</td>\n",
       "      <td>Sports and travel</td>\n",
       "      <td>86.31</td>\n",
       "      <td>7</td>\n",
       "      <td>30.2085</td>\n",
       "      <td>634.3785</td>\n",
       "      <td>2/8/2019</td>\n",
       "      <td>10:37</td>\n",
       "      <td>Ewallet</td>\n",
       "      <td>604.17</td>\n",
       "      <td>4.761905</td>\n",
       "      <td>30.2085</td>\n",
       "      <td>5.3</td>\n",
       "    </tr>\n",
       "    <tr>\n",
       "      <th>...</th>\n",
       "      <td>...</td>\n",
       "      <td>...</td>\n",
       "      <td>...</td>\n",
       "      <td>...</td>\n",
       "      <td>...</td>\n",
       "      <td>...</td>\n",
       "      <td>...</td>\n",
       "      <td>...</td>\n",
       "      <td>...</td>\n",
       "      <td>...</td>\n",
       "      <td>...</td>\n",
       "      <td>...</td>\n",
       "      <td>...</td>\n",
       "      <td>...</td>\n",
       "      <td>...</td>\n",
       "      <td>...</td>\n",
       "      <td>...</td>\n",
       "    </tr>\n",
       "    <tr>\n",
       "      <th>995</th>\n",
       "      <td>233-67-5758</td>\n",
       "      <td>C</td>\n",
       "      <td>Naypyitaw</td>\n",
       "      <td>Normal</td>\n",
       "      <td>Male</td>\n",
       "      <td>Health and beauty</td>\n",
       "      <td>40.35</td>\n",
       "      <td>1</td>\n",
       "      <td>2.0175</td>\n",
       "      <td>42.3675</td>\n",
       "      <td>1/29/2019</td>\n",
       "      <td>13:46</td>\n",
       "      <td>Ewallet</td>\n",
       "      <td>40.35</td>\n",
       "      <td>4.761905</td>\n",
       "      <td>2.0175</td>\n",
       "      <td>6.2</td>\n",
       "    </tr>\n",
       "    <tr>\n",
       "      <th>996</th>\n",
       "      <td>303-96-2227</td>\n",
       "      <td>B</td>\n",
       "      <td>Mandalay</td>\n",
       "      <td>Normal</td>\n",
       "      <td>Female</td>\n",
       "      <td>Home and lifestyle</td>\n",
       "      <td>97.38</td>\n",
       "      <td>10</td>\n",
       "      <td>48.6900</td>\n",
       "      <td>1022.4900</td>\n",
       "      <td>3/2/2019</td>\n",
       "      <td>17:16</td>\n",
       "      <td>Ewallet</td>\n",
       "      <td>973.80</td>\n",
       "      <td>4.761905</td>\n",
       "      <td>48.6900</td>\n",
       "      <td>4.4</td>\n",
       "    </tr>\n",
       "    <tr>\n",
       "      <th>997</th>\n",
       "      <td>727-02-1313</td>\n",
       "      <td>A</td>\n",
       "      <td>Yangon</td>\n",
       "      <td>Member</td>\n",
       "      <td>Male</td>\n",
       "      <td>Food and beverages</td>\n",
       "      <td>31.84</td>\n",
       "      <td>1</td>\n",
       "      <td>1.5920</td>\n",
       "      <td>33.4320</td>\n",
       "      <td>2/9/2019</td>\n",
       "      <td>13:22</td>\n",
       "      <td>Cash</td>\n",
       "      <td>31.84</td>\n",
       "      <td>4.761905</td>\n",
       "      <td>1.5920</td>\n",
       "      <td>7.7</td>\n",
       "    </tr>\n",
       "    <tr>\n",
       "      <th>998</th>\n",
       "      <td>347-56-2442</td>\n",
       "      <td>A</td>\n",
       "      <td>Yangon</td>\n",
       "      <td>Normal</td>\n",
       "      <td>Male</td>\n",
       "      <td>Home and lifestyle</td>\n",
       "      <td>65.82</td>\n",
       "      <td>1</td>\n",
       "      <td>3.2910</td>\n",
       "      <td>69.1110</td>\n",
       "      <td>2/22/2019</td>\n",
       "      <td>15:33</td>\n",
       "      <td>Cash</td>\n",
       "      <td>65.82</td>\n",
       "      <td>4.761905</td>\n",
       "      <td>3.2910</td>\n",
       "      <td>4.1</td>\n",
       "    </tr>\n",
       "    <tr>\n",
       "      <th>999</th>\n",
       "      <td>849-09-3807</td>\n",
       "      <td>A</td>\n",
       "      <td>Yangon</td>\n",
       "      <td>Member</td>\n",
       "      <td>Female</td>\n",
       "      <td>Fashion accessories</td>\n",
       "      <td>88.34</td>\n",
       "      <td>7</td>\n",
       "      <td>30.9190</td>\n",
       "      <td>649.2990</td>\n",
       "      <td>2/18/2019</td>\n",
       "      <td>13:28</td>\n",
       "      <td>Cash</td>\n",
       "      <td>618.38</td>\n",
       "      <td>4.761905</td>\n",
       "      <td>30.9190</td>\n",
       "      <td>6.6</td>\n",
       "    </tr>\n",
       "  </tbody>\n",
       "</table>\n",
       "<p>1000 rows × 17 columns</p>\n",
       "</div>"
      ]
     },
     "execution_count": 7,
     "metadata": {},
     "output_type": "execute_result"
    }
   ],
   "execution_count": 7
  },
  {
   "metadata": {
    "ExecuteTime": {
     "end_time": "2024-11-12T22:43:26.129074Z",
     "start_time": "2024-11-12T22:43:26.124504Z"
    }
   },
   "cell_type": "code",
   "source": [
    "ske = df[\"Rating\"].skew()\n",
    "print(ske)"
   ],
   "id": "28bd32191117777e",
   "outputs": [
    {
     "name": "stdout",
     "output_type": "stream",
     "text": [
      "0.00900964876573073\n"
     ]
    }
   ],
   "execution_count": 5
  },
  {
   "metadata": {
    "ExecuteTime": {
     "end_time": "2024-11-12T22:43:54.042353Z",
     "start_time": "2024-11-12T22:43:54.030229Z"
    }
   },
   "cell_type": "code",
   "source": "df.info()",
   "id": "7fdbd6b6d765c776",
   "outputs": [
    {
     "name": "stdout",
     "output_type": "stream",
     "text": [
      "<class 'pandas.core.frame.DataFrame'>\n",
      "RangeIndex: 1000 entries, 0 to 999\n",
      "Data columns (total 17 columns):\n",
      " #   Column                Non-Null Count  Dtype  \n",
      "---  ------                --------------  -----  \n",
      " 0   Invoice_ID            1000 non-null   object \n",
      " 1   Branch                1000 non-null   object \n",
      " 2   City                  1000 non-null   object \n",
      " 3   Customer_Type         1000 non-null   object \n",
      " 4   Gender                1000 non-null   object \n",
      " 5   Product_Line          1000 non-null   object \n",
      " 6   Unit_Price            1000 non-null   float64\n",
      " 7   Quantity              1000 non-null   int64  \n",
      " 8   Tax_5_Percent         1000 non-null   float64\n",
      " 9   Total                 1000 non-null   float64\n",
      " 10  Date                  1000 non-null   object \n",
      " 11  Time                  1000 non-null   object \n",
      " 12  Payment               1000 non-null   object \n",
      " 13  Cogs                  1000 non-null   float64\n",
      " 14  Gross_Margin_Percent  1000 non-null   float64\n",
      " 15  Gross_Income          1000 non-null   float64\n",
      " 16  Rating                1000 non-null   float64\n",
      "dtypes: float64(7), int64(1), object(9)\n",
      "memory usage: 132.9+ KB\n"
     ]
    }
   ],
   "execution_count": 6
  },
  {
   "metadata": {},
   "cell_type": "markdown",
   "source": "",
   "id": "270270e0328ddadc"
  },
  {
   "metadata": {
    "ExecuteTime": {
     "end_time": "2024-11-12T22:50:32.397335Z",
     "start_time": "2024-11-12T22:50:32.391976Z"
    }
   },
   "cell_type": "code",
   "source": "df.shape",
   "id": "c0a2750da2221b1e",
   "outputs": [
    {
     "data": {
      "text/plain": [
       "(1000, 17)"
      ]
     },
     "execution_count": 13,
     "metadata": {},
     "output_type": "execute_result"
    }
   ],
   "execution_count": 13
  },
  {
   "metadata": {
    "ExecuteTime": {
     "end_time": "2024-11-12T23:02:52.893880Z",
     "start_time": "2024-11-12T23:02:52.884999Z"
    }
   },
   "cell_type": "code",
   "source": "df.Payment.value_counts()",
   "id": "16ba837ea7149020",
   "outputs": [
    {
     "data": {
      "text/plain": [
       "Payment\n",
       "Ewallet        345\n",
       "Cash           344\n",
       "Credit card    311\n",
       "Name: count, dtype: int64"
      ]
     },
     "execution_count": 30,
     "metadata": {},
     "output_type": "execute_result"
    }
   ],
   "execution_count": 30
  },
  {
   "metadata": {
    "ExecuteTime": {
     "end_time": "2024-11-12T22:54:29.005380Z",
     "start_time": "2024-11-12T22:54:28.997199Z"
    }
   },
   "cell_type": "code",
   "source": "df.groupby('Product_Line')['Gross_Income'].sum()",
   "id": "1d09ff53020fb3ca",
   "outputs": [
    {
     "data": {
      "text/plain": [
       "Product_Line\n",
       "Electronic accessories    2587.5015\n",
       "Fashion accessories       2585.9950\n",
       "Food and beverages        2673.5640\n",
       "Health and beauty         2342.5590\n",
       "Home and lifestyle        2564.8530\n",
       "Sports and travel         2624.8965\n",
       "Name: Gross_Income, dtype: float64"
      ]
     },
     "execution_count": 20,
     "metadata": {},
     "output_type": "execute_result"
    }
   ],
   "execution_count": 20
  },
  {
   "metadata": {
    "ExecuteTime": {
     "end_time": "2024-11-12T22:58:31.730798Z",
     "start_time": "2024-11-12T22:58:31.724442Z"
    }
   },
   "cell_type": "code",
   "source": "df.groupby(\"Product_Line\")[\"Unit_Price\"].min()",
   "id": "64b2548fadf0c723",
   "outputs": [
    {
     "data": {
      "text/plain": [
       "Product_Line\n",
       "Electronic accessories    10.56\n",
       "Fashion accessories       10.18\n",
       "Food and beverages        10.13\n",
       "Health and beauty         10.08\n",
       "Home and lifestyle        10.53\n",
       "Sports and travel         10.17\n",
       "Name: Unit_Price, dtype: float64"
      ]
     },
     "execution_count": 28,
     "metadata": {},
     "output_type": "execute_result"
    }
   ],
   "execution_count": 28
  },
  {
   "metadata": {
    "ExecuteTime": {
     "end_time": "2024-11-12T23:01:11.801903Z",
     "start_time": "2024-11-12T23:01:11.795957Z"
    }
   },
   "cell_type": "code",
   "source": "df.groupby(\"Branch\")[\"Gross_Income\"].sum()",
   "id": "4c4c9798df602a9b",
   "outputs": [
    {
     "data": {
      "text/plain": [
       "Branch\n",
       "A    5057.1605\n",
       "B    5057.0320\n",
       "C    5265.1765\n",
       "Name: Gross_Income, dtype: float64"
      ]
     },
     "execution_count": 29,
     "metadata": {},
     "output_type": "execute_result"
    }
   ],
   "execution_count": 29
  },
  {
   "metadata": {
    "ExecuteTime": {
     "end_time": "2024-11-12T23:04:36.479555Z",
     "start_time": "2024-11-12T23:04:36.472947Z"
    }
   },
   "cell_type": "code",
   "source": [
    "mean = df[\"Unit_Price\"].mean()\n",
    "print(mean)"
   ],
   "id": "c0ec51696e14984a",
   "outputs": [
    {
     "name": "stdout",
     "output_type": "stream",
     "text": [
      "55.67213\n"
     ]
    }
   ],
   "execution_count": 31
  },
  {
   "metadata": {
    "ExecuteTime": {
     "end_time": "2024-11-12T23:08:25.001036Z",
     "start_time": "2024-11-12T23:08:24.989652Z"
    }
   },
   "cell_type": "code",
   "source": [
    "mean_gross_income_by_gender = df.groupby(\"Gender\")[\"Gross_Income\"].mean()\n",
    "print(mean_gross_income_by_gender)\n",
    "\n",
    "median_gross_income_by_gender = df.groupby(\"Gender\")[\"Gross_Income\"].median()\n",
    "print(median_gross_income_by_gender)"
   ],
   "id": "ba81671aa641877b",
   "outputs": [
    {
     "name": "stdout",
     "output_type": "stream",
     "text": [
      "Gender\n",
      "Female    15.956936\n",
      "Male      14.799487\n",
      "Name: Gross_Income, dtype: float64\n",
      "Gender\n",
      "Female    12.98\n",
      "Male      11.63\n",
      "Name: Gross_Income, dtype: float64\n"
     ]
    }
   ],
   "execution_count": 32
  },
  {
   "metadata": {},
   "cell_type": "code",
   "outputs": [],
   "execution_count": null,
   "source": "",
   "id": "e0e77557a67d3f54"
  }
 ],
 "metadata": {
  "kernelspec": {
   "display_name": "Python 3",
   "language": "python",
   "name": "python3"
  },
  "language_info": {
   "codemirror_mode": {
    "name": "ipython",
    "version": 2
   },
   "file_extension": ".py",
   "mimetype": "text/x-python",
   "name": "python",
   "nbconvert_exporter": "python",
   "pygments_lexer": "ipython2",
   "version": "2.7.6"
  }
 },
 "nbformat": 4,
 "nbformat_minor": 5
}
